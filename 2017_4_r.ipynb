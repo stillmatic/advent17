{
 "cells": [
  {
   "cell_type": "markdown",
   "metadata": {},
   "source": [
    "# day 4"
   ]
  },
  {
   "cell_type": "code",
   "execution_count": 1,
   "metadata": {
    "collapsed": true
   },
   "outputs": [],
   "source": [
    "txt = readr::read_lines('input/day4.txt')"
   ]
  },
  {
   "cell_type": "code",
   "execution_count": 2,
   "metadata": {},
   "outputs": [
    {
     "name": "stderr",
     "output_type": "stream",
     "text": [
      "Loading tidyverse: ggplot2\n",
      "Loading tidyverse: tibble\n",
      "Loading tidyverse: tidyr\n",
      "Loading tidyverse: readr\n",
      "Loading tidyverse: purrr\n",
      "Loading tidyverse: dplyr\n",
      "Warning message:\n",
      "“package ‘tibble’ was built under R version 3.4.1”Warning message:\n",
      "“package ‘purrr’ was built under R version 3.4.1”Warning message:\n",
      "“package ‘dplyr’ was built under R version 3.4.1”Conflicts with tidy packages ---------------------------------------------------\n",
      "filter(): dplyr, stats\n",
      "lag():    dplyr, stats\n"
     ]
    }
   ],
   "source": [
    "library(tidyverse)"
   ]
  },
  {
   "cell_type": "code",
   "execution_count": 4,
   "metadata": {},
   "outputs": [
    {
     "data": {
      "text/html": [
       "<table>\n",
       "<thead><tr><th scope=col>V1</th></tr></thead>\n",
       "<tbody>\n",
       "\t<tr><td>pphsv ojtou brvhsj cer ntfhlra udeh ccgtyzc zoyzmh jum lugbnk</td></tr>\n",
       "\t<tr><td>vxjnf fzqitnj uyfck blnl impo kxoow nngd worcm bdesehw       </td></tr>\n",
       "\t<tr><td>caibh nfuk kfnu llfdbz uxjty yxjut jcea                      </td></tr>\n",
       "\t<tr><td>qiho qif eupwww avyglnj nxzotsu hio lws                      </td></tr>\n",
       "\t<tr><td>xjty usocjsh pivk qnknunc yjcgh bwya djw zpyr                </td></tr>\n",
       "\t<tr><td>ycfmfe mgq sjiomg nfzjul bjwkmgu yvsnvgj dcjupu wzz blmn     </td></tr>\n",
       "</tbody>\n",
       "</table>\n"
      ],
      "text/latex": [
       "\\begin{tabular}{r|l}\n",
       " V1\\\\\n",
       "\\hline\n",
       "\t pphsv ojtou brvhsj cer ntfhlra udeh ccgtyzc zoyzmh jum lugbnk\\\\\n",
       "\t vxjnf fzqitnj uyfck blnl impo kxoow nngd worcm bdesehw       \\\\\n",
       "\t caibh nfuk kfnu llfdbz uxjty yxjut jcea                      \\\\\n",
       "\t qiho qif eupwww avyglnj nxzotsu hio lws                      \\\\\n",
       "\t xjty usocjsh pivk qnknunc yjcgh bwya djw zpyr                \\\\\n",
       "\t ycfmfe mgq sjiomg nfzjul bjwkmgu yvsnvgj dcjupu wzz blmn     \\\\\n",
       "\\end{tabular}\n"
      ],
      "text/markdown": [
       "\n",
       "V1 | \n",
       "|---|---|---|---|---|---|\n",
       "| pphsv ojtou brvhsj cer ntfhlra udeh ccgtyzc zoyzmh jum lugbnk | \n",
       "| vxjnf fzqitnj uyfck blnl impo kxoow nngd worcm bdesehw        | \n",
       "| caibh nfuk kfnu llfdbz uxjty yxjut jcea                       | \n",
       "| qiho qif eupwww avyglnj nxzotsu hio lws                       | \n",
       "| xjty usocjsh pivk qnknunc yjcgh bwya djw zpyr                 | \n",
       "| ycfmfe mgq sjiomg nfzjul bjwkmgu yvsnvgj dcjupu wzz blmn      | \n",
       "\n",
       "\n"
      ],
      "text/plain": [
       "  V1                                                           \n",
       "1 pphsv ojtou brvhsj cer ntfhlra udeh ccgtyzc zoyzmh jum lugbnk\n",
       "2 vxjnf fzqitnj uyfck blnl impo kxoow nngd worcm bdesehw       \n",
       "3 caibh nfuk kfnu llfdbz uxjty yxjut jcea                      \n",
       "4 qiho qif eupwww avyglnj nxzotsu hio lws                      \n",
       "5 xjty usocjsh pivk qnknunc yjcgh bwya djw zpyr                \n",
       "6 ycfmfe mgq sjiomg nfzjul bjwkmgu yvsnvgj dcjupu wzz blmn     "
      ]
     },
     "metadata": {},
     "output_type": "display_data"
    }
   ],
   "source": [
    "txt %>% head"
   ]
  },
  {
   "cell_type": "code",
   "execution_count": 3,
   "metadata": {
    "collapsed": true
   },
   "outputs": [],
   "source": [
    "check <- function(x) {\n",
    "    splits = stringr::str_split(x, \" \")[[1]]\n",
    "    !any(duplicated(splits))\n",
    "}"
   ]
  },
  {
   "cell_type": "code",
   "execution_count": 4,
   "metadata": {},
   "outputs": [
    {
     "data": {
      "text/html": [
       "466"
      ],
      "text/latex": [
       "466"
      ],
      "text/markdown": [
       "466"
      ],
      "text/plain": [
       "[1] 466"
      ]
     },
     "metadata": {},
     "output_type": "display_data"
    }
   ],
   "source": [
    "sum(unlist(purrr::map(txt, check)))"
   ]
  },
  {
   "cell_type": "code",
   "execution_count": 5,
   "metadata": {
    "collapsed": true
   },
   "outputs": [],
   "source": [
    "sort_letters <- function(x) {\n",
    "    paste(sort(unlist(strsplit(x, \"\"))), collapse=\"\")\n",
    "}\n",
    "\n",
    "check2 <- function(x) {\n",
    "    splits = stringr::str_split(x, \" \")[[1]]\n",
    "    sorted <- map(splits, sort_letters)\n",
    "    return(!any(duplicated(unlist(sorted))) * 1)\n",
    "}"
   ]
  },
  {
   "cell_type": "code",
   "execution_count": 55,
   "metadata": {},
   "outputs": [
    {
     "data": {
      "text/html": [
       "TRUE"
      ],
      "text/latex": [
       "TRUE"
      ],
      "text/markdown": [
       "TRUE"
      ],
      "text/plain": [
       "[1] TRUE"
      ]
     },
     "metadata": {},
     "output_type": "display_data"
    }
   ],
   "source": [
    "check2(\"pphsv ojtou brvhsj cer ntfhlra udeh ccgtyzc zoyzmh jum lugbnk\")"
   ]
  },
  {
   "cell_type": "code",
   "execution_count": 69,
   "metadata": {},
   "outputs": [
    {
     "name": "stdout",
     "output_type": "stream",
     "text": [
      "[1] TRUE\n"
     ]
    },
    {
     "data": {
      "text/html": [
       "FALSE"
      ],
      "text/latex": [
       "FALSE"
      ],
      "text/markdown": [
       "FALSE"
      ],
      "text/plain": [
       "[1] FALSE"
      ]
     },
     "metadata": {},
     "output_type": "display_data"
    }
   ],
   "source": [
    "check2(\"oiii ioii iioi iiio\")"
   ]
  },
  {
   "cell_type": "code",
   "execution_count": 68,
   "metadata": {},
   "outputs": [
    {
     "name": "stdout",
     "output_type": "stream",
     "text": [
      "[1] TRUE\n"
     ]
    },
    {
     "data": {
      "text/html": [
       "FALSE"
      ],
      "text/latex": [
       "FALSE"
      ],
      "text/markdown": [
       "FALSE"
      ],
      "text/plain": [
       "[1] FALSE"
      ]
     },
     "metadata": {},
     "output_type": "display_data"
    }
   ],
   "source": [
    "check2(\"oiii ioii iioi iiio\")"
   ]
  },
  {
   "cell_type": "code",
   "execution_count": 6,
   "metadata": {},
   "outputs": [
    {
     "data": {
      "text/html": [
       "251"
      ],
      "text/latex": [
       "251"
      ],
      "text/markdown": [
       "251"
      ],
      "text/plain": [
       "[1] 251"
      ]
     },
     "metadata": {},
     "output_type": "display_data"
    }
   ],
   "source": [
    "sum(unlist(purrr::map(txt, check2)))"
   ]
  },
  {
   "cell_type": "code",
   "execution_count": null,
   "metadata": {
    "collapsed": true
   },
   "outputs": [],
   "source": []
  }
 ],
 "metadata": {
  "anaconda-cloud": {},
  "kernelspec": {
   "display_name": "R 3.4",
   "language": "R",
   "name": "ir34"
  },
  "language_info": {
   "codemirror_mode": "r",
   "file_extension": ".r",
   "mimetype": "text/x-r-source",
   "name": "R",
   "pygments_lexer": "r",
   "version": "3.4.0"
  }
 },
 "nbformat": 4,
 "nbformat_minor": 1
}
