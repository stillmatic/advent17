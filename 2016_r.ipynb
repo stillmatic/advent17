{
 "cells": [
  {
   "cell_type": "code",
   "execution_count": 59,
   "metadata": {},
   "outputs": [],
   "source": [
    "library(tidyverse)\n",
    "library(lubridate)\n",
    "library(magrittr)\n",
    "library(stringr)"
   ]
  },
  {
   "cell_type": "markdown",
   "metadata": {},
   "source": [
    "# 2016 day 3"
   ]
  },
  {
   "cell_type": "code",
   "execution_count": 34,
   "metadata": {},
   "outputs": [],
   "source": [
    "data_16_3 <- read.csv(\"2016/input//day3.txt\",header = F, sep='')"
   ]
  },
  {
   "cell_type": "code",
   "execution_count": 39,
   "metadata": {
    "collapsed": true
   },
   "outputs": [],
   "source": [
    "valid_triangle <- function(vals) {\n",
    "    sorted = sort(c(vals[1], vals[2], vals[3]))\n",
    "    return(sorted[1] + sorted[2] > sorted[3])\n",
    "}"
   ]
  },
  {
   "cell_type": "code",
   "execution_count": 40,
   "metadata": {},
   "outputs": [
    {
     "data": {
      "text/html": [
       "1032"
      ],
      "text/latex": [
       "1032"
      ],
      "text/markdown": [
       "1032"
      ],
      "text/plain": [
       "[1] 1032"
      ]
     },
     "metadata": {},
     "output_type": "display_data"
    }
   ],
   "source": [
    "sum(apply(data_16_3, valid_triangle, MARGIN = 1))"
   ]
  },
  {
   "cell_type": "code",
   "execution_count": 36,
   "metadata": {},
   "outputs": [
    {
     "data": {
      "text/html": [
       "FALSE"
      ],
      "text/latex": [
       "FALSE"
      ],
      "text/markdown": [
       "FALSE"
      ],
      "text/plain": [
       "[1] FALSE"
      ]
     },
     "metadata": {},
     "output_type": "display_data"
    }
   ],
   "source": [
    "valid_triangle(c(245, 38, 891))"
   ]
  },
  {
   "cell_type": "code",
   "execution_count": 24,
   "metadata": {},
   "outputs": [
    {
     "data": {
      "text/html": [
       "<table>\n",
       "<thead><tr><th scope=col>V1</th><th scope=col>V2</th><th scope=col>V3</th></tr></thead>\n",
       "<tbody>\n",
       "\t<tr><td>775</td><td>785</td><td>361</td></tr>\n",
       "\t<tr><td>622</td><td>375</td><td>125</td></tr>\n",
       "\t<tr><td>297</td><td>839</td><td>375</td></tr>\n",
       "\t<tr><td>245</td><td> 38</td><td>891</td></tr>\n",
       "\t<tr><td>503</td><td>463</td><td>849</td></tr>\n",
       "\t<tr><td>731</td><td>482</td><td>759</td></tr>\n",
       "</tbody>\n",
       "</table>\n"
      ],
      "text/latex": [
       "\\begin{tabular}{r|lll}\n",
       " V1 & V2 & V3\\\\\n",
       "\\hline\n",
       "\t 775 & 785 & 361\\\\\n",
       "\t 622 & 375 & 125\\\\\n",
       "\t 297 & 839 & 375\\\\\n",
       "\t 245 &  38 & 891\\\\\n",
       "\t 503 & 463 & 849\\\\\n",
       "\t 731 & 482 & 759\\\\\n",
       "\\end{tabular}\n"
      ],
      "text/markdown": [
       "\n",
       "V1 | V2 | V3 | \n",
       "|---|---|---|---|---|---|\n",
       "| 775 | 785 | 361 | \n",
       "| 622 | 375 | 125 | \n",
       "| 297 | 839 | 375 | \n",
       "| 245 |  38 | 891 | \n",
       "| 503 | 463 | 849 | \n",
       "| 731 | 482 | 759 | \n",
       "\n",
       "\n"
      ],
      "text/plain": [
       "  V1  V2  V3 \n",
       "1 775 785 361\n",
       "2 622 375 125\n",
       "3 297 839 375\n",
       "4 245  38 891\n",
       "5 503 463 849\n",
       "6 731 482 759"
      ]
     },
     "metadata": {},
     "output_type": "display_data"
    }
   ],
   "source": [
    "data_16_3 %>% head"
   ]
  },
  {
   "cell_type": "code",
   "execution_count": 48,
   "metadata": {},
   "outputs": [],
   "source": [
    "data_16_3_2 <- data_16_3 %>% unlist %>% matrix(nrow= 3)"
   ]
  },
  {
   "cell_type": "code",
   "execution_count": 55,
   "metadata": {},
   "outputs": [
    {
     "data": {
      "text/html": [
       "<table>\n",
       "<tbody>\n",
       "\t<tr><td>775</td><td>245</td><td> 29</td><td>669</td><td>472</td><td>413</td><td>271</td><td>539</td><td>434</td><td>188</td><td>⋯  </td><td>787</td><td>781</td><td>265</td><td>843</td><td>926</td><td>413</td><td>371</td><td>155</td><td>969</td><td>734</td></tr>\n",
       "\t<tr><td>622</td><td>503</td><td>245</td><td>570</td><td>174</td><td>375</td><td>696</td><td>168</td><td>859</td><td>799</td><td>⋯  </td><td>393</td><td>630</td><td>243</td><td> 15</td><td>574</td><td>254</td><td>322</td><td>661</td><td> 76</td><td>809</td></tr>\n",
       "\t<tr><td>297</td><td>731</td><td>261</td><td>124</td><td>406</td><td>211</td><td>513</td><td>690</td><td>620</td><td>932</td><td>⋯  </td><td>525</td><td>771</td><td>225</td><td>849</td><td>895</td><td>158</td><td> 99</td><td>692</td><td>957</td><td>287</td></tr>\n",
       "</tbody>\n",
       "</table>\n"
      ],
      "text/latex": [
       "\\begin{tabular}{llllllllllllllllllllllllllllllllllllllllllllllllllllllllllllllllllllllllllllllllllllllllllllllllllllllllllllllllllllllllllllllllllllllllllllllllllllllllllllllllllllllllllllllllllllllllllllllllllllllllllllllllllllllllllllllllllllllllllllllllllllllllllllllllllllllllllllllllllllllllllllllllllllllllllllllllllllllllllllllllllllllllllllllllllllllllllllllllllllllllllllllllllllllllllllllllllllllllllllllllllllllllllllllllllllllllllllllllllllllllllllllllllllllllllllllllllllllllllllllllllllllllllllllllllllllllllllllllllllllllllllllllllllllllllllllllllllllllllllllllllllllllllllllllllllllllllllllllllllllllllllllllllllllllllllllllllllllllllllllllllllllllllllllllllllllllllllllllllllllllllllllllllllllllllllllllllllllllllllllllllllllllllllllllllllllllllllllllllllllllllllllllllllllllllllllllllllllllllllllllllllllllllllllllllllllllllllllllllllllllllllllllllllllllllllllllllllllllllllllllllllllllllllllllllllllllllllllllllllllllllllllllllllllllllllllllllllllllllllllllllllllllllllllllllllllllllllllllllllllllllllllllllllllllllllllllllllllllllllllllllllllllllllllllllllllllllllllllllllllllllllllllllllllllllllllllllllllllllllllllllllllllllllllllllllllllllllllllllllllllllllllllllllllllllllllllllllllllllllllllllllllllllllllllllllllllllllllllllllllllllllllllllllllllllllllllllllllllllllllllllllllllllllllllllllllllllllllllllllllllllllllllllllllllllllllllllllllllllllllllllllllllllllllllllllllllllllllllllllllllllllllllllllllllllllllllllllllllllllllllllllllllllllllllllllllllllllllllllllllllllllllllllllllllllllllllllllllllllllllllllllllllllllllllllllllllllllllllllllllllllllllllllllllllllllllllllllllllllllllllllllllllllllllllllllllllllllllllllllllllllllllllllllllllllllllllllllllllllllllllllllllllllllllllllllllllllllllllllllllllllllllllllllllllllllllllllllllllllllllllllllllllllllllllllllllllllllllllllllllllllllllllllllllllllllllllllllllllllllllllllllllllllllllllllllllllllllllllllllllllllllllllllllllllllllllllllllllllll}\n",
       "\t 775 & 245 &  29 & 669 & 472 & 413 & 271 & 539 & 434 & 188 & ⋯   & 787 & 781 & 265 & 843 & 926 & 413 & 371 & 155 & 969 & 734\\\\\n",
       "\t 622 & 503 & 245 & 570 & 174 & 375 & 696 & 168 & 859 & 799 & ⋯   & 393 & 630 & 243 &  15 & 574 & 254 & 322 & 661 &  76 & 809\\\\\n",
       "\t 297 & 731 & 261 & 124 & 406 & 211 & 513 & 690 & 620 & 932 & ⋯   & 525 & 771 & 225 & 849 & 895 & 158 &  99 & 692 & 957 & 287\\\\\n",
       "\\end{tabular}\n"
      ],
      "text/markdown": [
       "\n",
       "| 775 | 245 |  29 | 669 | 472 | 413 | 271 | 539 | 434 | 188 | ⋯   | 787 | 781 | 265 | 843 | 926 | 413 | 371 | 155 | 969 | 734 | \n",
       "| 622 | 503 | 245 | 570 | 174 | 375 | 696 | 168 | 859 | 799 | ⋯   | 393 | 630 | 243 |  15 | 574 | 254 | 322 | 661 |  76 | 809 | \n",
       "| 297 | 731 | 261 | 124 | 406 | 211 | 513 | 690 | 620 | 932 | ⋯   | 525 | 771 | 225 | 849 | 895 | 158 |  99 | 692 | 957 | 287 | \n",
       "\n",
       "\n"
      ],
      "text/plain": [
       "     [,1] [,2] [,3] [,4] [,5] [,6] [,7] [,8] [,9] [,10] [,11] [,12] [,13] [,14]\n",
       "[1,] 775  245   29  669  472  413  271  539  434  188   ⋯     787   781   265  \n",
       "[2,] 622  503  245  570  174  375  696  168  859  799   ⋯     393   630   243  \n",
       "[3,] 297  731  261  124  406  211  513  690  620  932   ⋯     525   771   225  \n",
       "     [,15] [,16] [,17] [,18] [,19] [,20] [,21]\n",
       "[1,] 843   926   413   371   155   969   734  \n",
       "[2,]  15   574   254   322   661    76   809  \n",
       "[3,] 849   895   158    99   692   957   287  "
      ]
     },
     "metadata": {},
     "output_type": "display_data"
    }
   ],
   "source": [
    "data_16_3_2"
   ]
  },
  {
   "cell_type": "code",
   "execution_count": 50,
   "metadata": {},
   "outputs": [
    {
     "data": {
      "text/html": [
       "1838"
      ],
      "text/latex": [
       "1838"
      ],
      "text/markdown": [
       "1838"
      ],
      "text/plain": [
       "[1] 1838"
      ]
     },
     "metadata": {},
     "output_type": "display_data"
    }
   ],
   "source": [
    "sum(apply(data_16_3_2, valid_triangle, MARGIN = 2))"
   ]
  },
  {
   "cell_type": "markdown",
   "metadata": {},
   "source": [
    "# 2016 day 4"
   ]
  },
  {
   "cell_type": "code",
   "execution_count": 64,
   "metadata": {},
   "outputs": [
    {
     "name": "stderr",
     "output_type": "stream",
     "text": [
      "Parsed with column specification:\n",
      "cols(\n",
      "  x = col_character()\n",
      ")\n"
     ]
    }
   ],
   "source": [
    "data_16_4 <- readr::read_csv(\"2016/input/day4.txt\", col_names='x' )"
   ]
  },
  {
   "cell_type": "code",
   "execution_count": 87,
   "metadata": {
    "collapsed": true
   },
   "outputs": [],
   "source": [
    "check_room <- function(x) {\n",
    "    get_check <- x %>% str_replace_all(\"-\", \"\") %>% str_split(\"\\\\[\") %>% unlist %>% magrittr::extract2(1) %>%\n",
    "        str_extract_all(\"([a-z])\") %>% unlist %>% table %>% sort(T) %>% head(5) %>% names %>% paste(collapse=\"\")\n",
    "    check <- x %>% str_split(\"\\\\[\") %>% unlist %>% magrittr::extract2(2) %>%\n",
    "        stringr::str_replace(\"\\\\]\", \"\")\n",
    "    sector_id <- x %>% str_extract_all(\"[0-9]\") %>% unlist %>% paste(collapse=\"\") %>% as.numeric\n",
    "    return(as.numeric(get_check == check) * sector_id)\n",
    "}\n"
   ]
  },
  {
   "cell_type": "code",
   "execution_count": 83,
   "metadata": {},
   "outputs": [
    {
     "data": {
      "text/html": [
       "123"
      ],
      "text/latex": [
       "123"
      ],
      "text/markdown": [
       "123"
      ],
      "text/plain": [
       "[1] 123"
      ]
     },
     "metadata": {},
     "output_type": "display_data"
    }
   ],
   "source": [
    "check_room(\"aaaaa-bbb-z-y-x-123[abxyz]\")"
   ]
  },
  {
   "cell_type": "code",
   "execution_count": 84,
   "metadata": {},
   "outputs": [
    {
     "data": {
      "text/html": [
       "987"
      ],
      "text/latex": [
       "987"
      ],
      "text/markdown": [
       "987"
      ],
      "text/plain": [
       "[1] 987"
      ]
     },
     "metadata": {},
     "output_type": "display_data"
    }
   ],
   "source": [
    "check_room(\"a-b-c-d-e-f-g-h-987[abcde]\")"
   ]
  },
  {
   "cell_type": "code",
   "execution_count": 85,
   "metadata": {},
   "outputs": [
    {
     "data": {
      "text/html": [
       "404"
      ],
      "text/latex": [
       "404"
      ],
      "text/markdown": [
       "404"
      ],
      "text/plain": [
       "[1] 404"
      ]
     },
     "metadata": {},
     "output_type": "display_data"
    }
   ],
   "source": [
    "check_room(\"not-a-real-room-404[oarel]\")"
   ]
  },
  {
   "cell_type": "code",
   "execution_count": 86,
   "metadata": {},
   "outputs": [
    {
     "data": {
      "text/html": [
       "0"
      ],
      "text/latex": [
       "0"
      ],
      "text/markdown": [
       "0"
      ],
      "text/plain": [
       "[1] 0"
      ]
     },
     "metadata": {},
     "output_type": "display_data"
    }
   ],
   "source": [
    "check_room(\"totally-real-room-200[decoy]\")"
   ]
  },
  {
   "cell_type": "code",
   "execution_count": 92,
   "metadata": {},
   "outputs": [
    {
     "data": {
      "text/html": [
       "278221"
      ],
      "text/latex": [
       "278221"
      ],
      "text/markdown": [
       "278221"
      ],
      "text/plain": [
       "[1] 278221"
      ]
     },
     "metadata": {},
     "output_type": "display_data"
    }
   ],
   "source": [
    "sum(map(data_16_4$x, check_room) %>% unlist)"
   ]
  },
  {
   "cell_type": "code",
   "execution_count": 94,
   "metadata": {},
   "outputs": [
    {
     "data": {
      "text/html": [
       "1"
      ],
      "text/latex": [
       "1"
      ],
      "text/markdown": [
       "1"
      ],
      "text/plain": [
       "[1] 1"
      ]
     },
     "metadata": {},
     "output_type": "display_data"
    }
   ],
   "source": [
    "which(letters==\"a\")"
   ]
  },
  {
   "cell_type": "code",
   "execution_count": 96,
   "metadata": {
    "collapsed": true
   },
   "outputs": [],
   "source": [
    "shift_cipher <- function(x) {\n",
    "    sector_id <- x %>% str_extract_all(\"[0-9]\") %>% unlist %>% paste(collapse=\"\") %>% as.numeric\n",
    "    \n",
    "    if(sector_id %% 26 == 0) {\n",
    "        shifted_letters <- paste(letters, collapse=\"\")\n",
    "    } else {\n",
    "        shifted_letters <- paste(letters[c((1+sector_id%%26) : 26, 1:(sector_id%%26))], collapse=\"\")\n",
    "    }\n",
    "    \n",
    "    coll_letters <- paste(letters, collapse=\"\")\n",
    "    interm <- x %>% str_split(\"\") %>% unlist %>% chartr(coll_letters, shifted_letters, .) %>% paste(collapse=\"\")\n",
    "    interm %>% str_replace_all(\"-\", \" \")\n",
    "}"
   ]
  },
  {
   "cell_type": "code",
   "execution_count": 97,
   "metadata": {
    "collapsed": true
   },
   "outputs": [],
   "source": [
    "shifted <- map(data_16_4$x, shift_cipher)"
   ]
  },
  {
   "cell_type": "code",
   "execution_count": 101,
   "metadata": {},
   "outputs": [
    {
     "data": {
      "text/html": [
       "875"
      ],
      "text/latex": [
       "875"
      ],
      "text/markdown": [
       "875"
      ],
      "text/plain": [
       "[1] 875"
      ]
     },
     "metadata": {},
     "output_type": "display_data"
    }
   ],
   "source": [
    "shifted %>% stringr::str_detect(\"north\") %>% which"
   ]
  },
  {
   "cell_type": "code",
   "execution_count": 102,
   "metadata": {},
   "outputs": [
    {
     "data": {
      "text/html": [
       "<ol>\n",
       "\t<li>'northpole object storage 267[oterh]'</li>\n",
       "</ol>\n"
      ],
      "text/latex": [
       "\\begin{enumerate}\n",
       "\\item 'northpole object storage 267{[}oterh{]}'\n",
       "\\end{enumerate}\n"
      ],
      "text/markdown": [
       "1. 'northpole object storage 267[oterh]'\n",
       "\n",
       "\n"
      ],
      "text/plain": [
       "[[1]]\n",
       "[1] \"northpole object storage 267[oterh]\"\n"
      ]
     },
     "metadata": {},
     "output_type": "display_data"
    }
   ],
   "source": [
    "shifted[875]"
   ]
  },
  {
   "cell_type": "markdown",
   "metadata": {},
   "source": [
    "# 2016 day 5"
   ]
  },
  {
   "cell_type": "code",
   "execution_count": 165,
   "metadata": {},
   "outputs": [],
   "source": [
    "library(digest)"
   ]
  },
  {
   "cell_type": "code",
   "execution_count": 166,
   "metadata": {},
   "outputs": [
    {
     "data": {
      "text/html": [
       "TRUE"
      ],
      "text/latex": [
       "TRUE"
      ],
      "text/markdown": [
       "TRUE"
      ],
      "text/plain": [
       "[1] TRUE"
      ]
     },
     "metadata": {},
     "output_type": "display_data"
    }
   ],
   "source": [
    "digest::digest(object = paste0(\"abc\", 3231929), algo=\"md5\", serialize=F) %>% startsWith('00000')"
   ]
  },
  {
   "cell_type": "code",
   "execution_count": 167,
   "metadata": {},
   "outputs": [],
   "source": [
    "find_hash <- function(x) {\n",
    "    pwd = \"\"\n",
    "    for(i in 9999:.Machine$integer.max) {\n",
    "        y <- digest::digest(object = paste0(x, i), algo=\"md5\", serialize=F) \n",
    "        cat(paste0(\"i\", i))\n",
    "        if(y %>% startsWith('00000')) {\n",
    "            pwd = paste0(pwd, substr(y, 6,6))\n",
    "            cat(pwd)\n",
    "            if(length(pwd) == 8) {\n",
    "                return(pwd)\n",
    "            }\n",
    "        }\n",
    "    }\n",
    "}"
   ]
  },
  {
   "cell_type": "code",
   "execution_count": 168,
   "metadata": {},
   "outputs": [],
   "source": [
    "find_hash(\"ugkcyxxp\")"
   ]
  },
  {
   "cell_type": "code",
   "execution_count": null,
   "metadata": {
    "collapsed": true
   },
   "outputs": [],
   "source": []
  }
 ],
 "metadata": {
  "anaconda-cloud": {},
  "kernelspec": {
   "display_name": "R 3.4",
   "language": "R",
   "name": "ir34"
  },
  "language_info": {
   "codemirror_mode": "r",
   "file_extension": ".r",
   "mimetype": "text/x-r-source",
   "name": "R",
   "pygments_lexer": "r",
   "version": "3.4.0"
  }
 },
 "nbformat": 4,
 "nbformat_minor": 1
}
